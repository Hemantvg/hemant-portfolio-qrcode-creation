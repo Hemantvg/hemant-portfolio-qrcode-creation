{
  "nbformat": 4,
  "nbformat_minor": 0,
  "metadata": {
    "colab": {
      "name": "Hemant qrcode.ipynb",
      "provenance": [],
      "collapsed_sections": [],
      "authorship_tag": "ABX9TyMOjYCW6PWmBvFCarAm/NE8",
      "include_colab_link": true
    },
    "kernelspec": {
      "name": "python3",
      "display_name": "Python 3"
    },
    "language_info": {
      "name": "python"
    }
  },
  "cells": [
    {
      "cell_type": "markdown",
      "metadata": {
        "id": "view-in-github",
        "colab_type": "text"
      },
      "source": [
        "<a href=\"https://colab.research.google.com/github/Hemantvg/hemant-portfolio-qrcode-creation/blob/main/Hemant_qrcode.ipynb\" target=\"_parent\"><img src=\"https://colab.research.google.com/assets/colab-badge.svg\" alt=\"Open In Colab\"/></a>"
      ]
    },
    {
      "cell_type": "code",
      "metadata": {
        "colab": {
          "base_uri": "https://localhost:8080/"
        },
        "id": "aMqewo_iIxdT",
        "outputId": "0219280a-c329-4e7b-bd8f-3bc44b832d56"
      },
      "source": [
        "pip install qrcode"
      ],
      "execution_count": null,
      "outputs": [
        {
          "output_type": "stream",
          "name": "stdout",
          "text": [
            "Collecting qrcode\n",
            "  Downloading qrcode-7.3.tar.gz (43 kB)\n",
            "\u001b[?25l\r\u001b[K     |███████▋                        | 10 kB 23.4 MB/s eta 0:00:01\r\u001b[K     |███████████████▏                | 20 kB 9.6 MB/s eta 0:00:01\r\u001b[K     |██████████████████████▊         | 30 kB 7.9 MB/s eta 0:00:01\r\u001b[K     |██████████████████████████████▎ | 40 kB 7.3 MB/s eta 0:00:01\r\u001b[K     |████████████████████████████████| 43 kB 824 kB/s \n",
            "\u001b[?25hBuilding wheels for collected packages: qrcode\n",
            "  Building wheel for qrcode (setup.py) ... \u001b[?25l\u001b[?25hdone\n",
            "  Created wheel for qrcode: filename=qrcode-7.3-py3-none-any.whl size=40238 sha256=40166473b3ca65be431c5a55259d08f78d81e5ce4f85df79dd7f8ac808774a08\n",
            "  Stored in directory: /root/.cache/pip/wheels/4f/ed/3e/24f78bcb5ee2f41ec2322691ff82ed037f7f5a21d79ed33565\n",
            "Successfully built qrcode\n",
            "Installing collected packages: qrcode\n",
            "Successfully installed qrcode-7.3\n"
          ]
        }
      ]
    },
    {
      "cell_type": "code",
      "metadata": {
        "id": "cGt8HwUEJF-V"
      },
      "source": [
        "import qrcode"
      ],
      "execution_count": null,
      "outputs": []
    },
    {
      "cell_type": "code",
      "metadata": {
        "id": "hZmxg5vlP_EJ"
      },
      "source": [
        "input_data = \"https://hemantvg.github.io/Portfolio/\""
      ],
      "execution_count": null,
      "outputs": []
    },
    {
      "cell_type": "code",
      "metadata": {
        "id": "bdmkVFzZQKm8"
      },
      "source": [
        "qr = qrcode.QRCode(version=1,box_size=18,border=5)"
      ],
      "execution_count": null,
      "outputs": []
    },
    {
      "cell_type": "code",
      "metadata": {
        "id": "idXG4j9KQa1o"
      },
      "source": [
        "qr.add_data(input_data)"
      ],
      "execution_count": null,
      "outputs": []
    },
    {
      "cell_type": "code",
      "metadata": {
        "id": "3zFtjPttQhZt"
      },
      "source": [
        "qr.make(fit=True)"
      ],
      "execution_count": null,
      "outputs": []
    },
    {
      "cell_type": "code",
      "metadata": {
        "id": "O17NyT7gQoQM"
      },
      "source": [
        "img = qr.make_image(fill='black',black_color='white')"
      ],
      "execution_count": null,
      "outputs": []
    },
    {
      "cell_type": "code",
      "metadata": {
        "id": "7fHJxx8EQ63H"
      },
      "source": [
        "img.save('qrcode_img.png')"
      ],
      "execution_count": null,
      "outputs": []
    }
  ]
}